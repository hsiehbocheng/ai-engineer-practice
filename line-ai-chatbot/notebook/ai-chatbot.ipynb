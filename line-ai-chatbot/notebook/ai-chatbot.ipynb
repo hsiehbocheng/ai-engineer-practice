{
 "cells": [
  {
   "cell_type": "code",
   "execution_count": 23,
   "id": "43b47e4f",
   "metadata": {},
   "outputs": [],
   "source": [
    "from typing import Annotated\n",
    "import os\n",
    "from IPython.display import Image, display\n",
    "from typing_extensions import TypedDict\n",
    "\n",
    "from langchain_tavily import TavilySearch\n",
    "from langchain.chat_models import init_chat_model\n",
    "from langgraph.graph import StateGraph, START, END\n",
    "from langgraph.graph.message import add_messages\n",
    "from langgraph.prebuilt import ToolNode, tools_condition\n",
    "from langgraph.checkpoint.memory import InMemorySaver\n",
    "\n",
    "\n",
    "\n",
    "from dotenv import load_dotenv\n",
    "load_dotenv()\n",
    "\n",
    "os.environ[\"LANGSMITH_TRACING\"] = \"true\"\n",
    "os.environ[\"LANGSMITH_PROJECT\"] = \"cathay-agent-club\"\n",
    "model_name = 'bedrock_converse:anthropic.claude-3-5-sonnet-20240620-v1:0'"
   ]
  },
  {
   "cell_type": "code",
   "execution_count": 24,
   "id": "957bcbcc",
   "metadata": {},
   "outputs": [],
   "source": [
    "tool = TavilySearch(max_results=2)\n",
    "tools = [tool]"
   ]
  },
  {
   "cell_type": "code",
   "execution_count": 25,
   "id": "cbde344e",
   "metadata": {},
   "outputs": [],
   "source": [
    "llm = init_chat_model(model=model_name)\n",
    "llm_with_tool = llm.bind_tools([tool])"
   ]
  },
  {
   "cell_type": "code",
   "execution_count": 26,
   "id": "bf17d78c",
   "metadata": {},
   "outputs": [],
   "source": [
    "class State(TypedDict):\n",
    "    # Messages have the type \"list\". The `add_messages` function\n",
    "    # in the annotation defines how this state key should be updated\n",
    "    # (in this case, it appends messages to the list, rather than overwriting them)\n",
    "    messages: Annotated[list, add_messages]"
   ]
  },
  {
   "cell_type": "code",
   "execution_count": 27,
   "id": "70f6461b",
   "metadata": {},
   "outputs": [],
   "source": [
    "def chatbot(state: State):\n",
    "    return {\"messages\": [llm_with_tool.invoke(state[\"messages\"])]}"
   ]
  },
  {
   "cell_type": "code",
   "execution_count": 28,
   "id": "80e46d90",
   "metadata": {},
   "outputs": [
    {
     "data": {
      "image/png": "[encoded data removed]",
      "text/plain": [
       "<IPython.core.display.Image object>"
      ]
     },
     "metadata": {},
     "output_type": "display_data"
    }
   ],
   "source": [
    "graph_builder = StateGraph(state_schema=State)\n",
    "tool_node = ToolNode(tools)\n",
    "memory = InMemorySaver()\n",
    "\n",
    "graph_builder.add_node(\"chatbot\", chatbot)\n",
    "graph_builder.add_node(\"tools\", tool_node)\n",
    "\n",
    "graph_builder.add_edge(START, \"chatbot\")\n",
    "graph_builder.add_conditional_edges(\"chatbot\", tools_condition)\n",
    "graph_builder.add_edge(\"tools\", \"chatbot\")\n",
    "graph = graph_builder.compile(checkpointer=memory)\n",
    "\n",
    "display(Image(graph.get_graph().draw_mermaid_png()))"
   ]
  },
  {
   "cell_type": "code",
   "execution_count": 29,
   "id": "6599028c",
   "metadata": {},
   "outputs": [
    {
     "name": "stdout",
     "output_type": "stream",
     "text": [
      "{'chatbot': {'messages': [AIMessage(content=[{'type': 'text', 'text': '为了回答您关于台湾和美国之间现行关税的问题，我需要搜索最新的相关信息。让我为您查找一下。'}, {'type': 'tool_use', 'name': 'tavily_search', 'input': {'query': '台湾和美国之间的现行关税率', 'search_depth': 'advanced'}, 'id': 'tooluse_NAtRyEbGQ7CeOYF3UDftyQ'}], additional_kwargs={}, response_metadata={'ResponseMetadata': {'RequestId': 'afeb83ae-57a8-4ea6-821c-84cd0942b0e0', 'HTTPStatusCode': 200, 'HTTPHeaders': {'date': 'Fri, 01 Aug 2025 17:26:37 GMT', 'content-type': 'application/json', 'content-length': '487', 'connection': 'keep-alive', 'x-amzn-requestid': 'afeb83ae-57a8-4ea6-821c-84cd0942b0e0'}, 'RetryAttempts': 0}, 'stopReason': 'tool_use', 'metrics': {'latencyMs': [2750]}, 'model_name': 'anthropic.claude-3-5-sonnet-20240620-v1:0'}, id='run--8f1b333a-ddbc-4bbd-8c0e-c67e14b14c94-0', tool_calls=[{'name': 'tavily_search', 'args': {'query': '台湾和美国之间的现行关税率', 'search_depth': 'advanced'}, 'id': 'tooluse_NAtRyEbGQ7CeOYF3UDftyQ', 'type': 'tool_call'}], usage_metadata={'input_tokens': 2115, 'output_tokens': 134, 'total_tokens': 2249, 'input_token_details': {'cache_creation': 0, 'cache_read': 0}})]}}\n",
      "\n",
      "\n",
      "{'tools': {'messages': [ToolMessage(content='{\"query\": \"台湾和美国之间的现行关税率\", \"follow_up_questions\": null, \"answer\": null, \"images\": [], \"results\": [{\"url\": \"https://www.bbc.com/zhongwen/articles/c4glz4e9q20o/simp\", \"title\": \"特朗普宣布对台征收20%关税台湾业者为何表达忧虑？ - BBC\", \"content\": \"美国圣汤玛斯大学政治系讲座教授叶耀元向BBC中文分析，台湾在尚未谈妥条件前即取得20%的关税优势，相较于其他谈判后关税仍高于20%的国家，或在美国与中国竞争的国际环境下，美国仍希望与台湾建立更密切的关系。\\\\n\\\\n然而，美国德州山姆休斯顿州立大学政治系副教授翁履中在社交网站Meta上以“留校察看”形容台美谈判，认为这不仅是一场税率谈判，“更是双方对未来地缘战略的对价协商”。翁教授表示，若将20%视为起始价，台湾现应将国安与经贸战略价值包装成最具说服力的筹码，因为“对美国的川普政府，必须务实理解‘少输已是赢’，这绝非一场容易的谈判”。\\\\n\\\\n此外，在此敏感时刻，一位台湾涉外人士周五向台湾媒体《镜传媒》透露，台美磋商税率期间，北京曾透过外交及经贸管道影响台美谈判内容，因为“中方应不乐见台美协议比中美更快达成具体共识。”\\\\n\\\\n该人士透露，台美谈判过程中，台北确实接收到中方持续透过管道向美方关切与台湾的谈判细节，“希望得知台湾具体愿意提出的投资及合作方案。”该涉外人士称，北京关切的目的是担心台美经济关系过于紧密，可能损及中国利益，因为北京不乐见台美经济持续密切交流，更不愿台湾在经济上取得更高的独立性。 [...] 例如在彰化，许多为国际知名品牌代工水龙头（水喉）等厨浴产品的业者向媒体表示，其主要竞争对手为中国、韩国及东协国家，属于“薄利多销”的产业。如今，关税从现行增至20%，韩国的税率比台湾低5%，业者忧心将严重影响台湾的竞争优势。他们期盼赖政府能尽力协商或调整营业税等措施，以减轻营运成本压力。\\\\n\\\\n不过，财经学者、台湾南台科技大学助理教授朱岳中向BBC中文表示，他个人并不悲观。他强调，台湾传统产业的竞争对手是中国和东南亚国家，但台湾对美关税并未高于这些国家。“实在无须担心。今日台股工具机及机械概念股大涨，五金股也多半上涨，表现比大盘强劲，”他说。\\\\n\\\\n朱岳中教授分析，欧洲市场其实更值得考虑。他表示，产业升级的战略自2000年台湾加入世贸组织（WTO）后一波淘汰赛开始，“当年能存活下来的公司，体质都算不错。”因此，现应开拓更广阔的市场。\\\\n\\\\n他指出，扣件、水五金及机械等产业的对手是中国及东协国家，而非日韩。欧洲市场对台湾并不排斥，“是台湾不够用心，政府长期眼中只有美、日、中三个市场”。他认为，随着台积电进军德国设厂，其他产业或有机会藉此打开欧洲市场。\\\\n\\\\n特朗普手持自己签署的总统行政命令 [...] 然而，在政治攻防之外，舆论更关心此关税如何影响台湾经济。\\\\n\\\\n美国财政部长斯科特·贝森特（Scott Bessent）手扶眼镜的画面\\\\n卢比奥\\\\n美国和台湾旗帜插在台湾地图上\\\\n美国总统特朗普从英国苏格兰返回白宫后在华盛顿会见媒体记者\\\\n\\\\nEnd of 热读\\\\n\\\\n台湾东海大学政治学系教授邱师仪在其个人网站表示，目前谈到的20%对等关税直接影响的是台湾中南部的传统制造业，包括扣件（Fastener，紧固件）、机械、水五金（莲蓬头、水龙头等）及工具机等。\\\\n\\\\n邱教授指出，这些产业利润通常为毛利三到四成，2024年传统产业出口至中国最多，约占三成；出口至美国次之，占两成三；出口至东盟（东协）十国位居第三，占18%。“也就是说，20%的对等关税一课下来，若无政府补贴，这些传统产业根本无法卖到美国。否则只能加大对中国与东盟的出口以弥补损失。”\\\\n\\\\n对此，台湾一位传统产业业者刘先生向BBC中文忧心忡忡地表示，特朗普的关税影响太大，尤其是非电子和半导体相关的产业。他向记者表示，台湾半导体拥有技术领先的优势。\", \"score\": 0.71377134, \"raw_content\": null}, {\"url\": \"https://money.udn.com/money/story/5599/8863423\", \"title\": \"川普關稅開獎！一表看懂各國關稅變動台灣比誰高？亞洲誰最高？\", \"content\": \"張貼文章或下標籤，不得有違法或侵害他人權益之言論，違者應自負法律責任。\\\\n   對於明知不實或過度情緒謾罵之言論，經網友檢舉或本網站發現，經濟日報網有權逕予刪除文章、停權或解除會員資格。不同意上述規範者，請勿張貼文章。\\\\n   對於無意義、與本文無關、明知不實、謾罵之標籤，經濟日報網有權逕予刪除標籤、停權或解除會員資格。不同意上述規範者，請勿下標籤。\\\\n   凡「暱稱」涉及謾罵、髒話穢言、侵害他人權利，經濟日報網有權逕予刪除發言文章、停權或解除會員資格。不同意上述規範者，請勿張貼文章。\\\\n\\\\nImage 19 \\\\\"移除表情\\\\\")\\\\n500字以內，目前輸入 0 字\\\\n\\\\n發表意見)\\\\n\\\\nImage 20: 讚拉!Image 21: 哈哈哈Image 22: +1Image 23: 開心Image 24: 好感動Image 25: 好笑Image 26: 加油!!Image 27: NO~~~~Image 28: 蛤？！Image 29: OMG~Image 30: 噗～好瞎！Image 31: 踹共！！！Image 32: 有事嗎？Image 33: 無言(不予置評)Image 34: 怒 [...] Published Time: 2025-07-11T10:40:56+08:00\\\\n\\\\n整理包／一表看懂川普迄今對23國關稅調整 還課了哪些關稅？ | 國際焦點 | 國際 | 經濟日報\\\\n\\\\n===============\\\\n打開 App\\\\n\\\\nImage 2\\\\n\\\\n產業資料庫\\\\n\\\\n訂閱\\\\n\\\\nImage 3: user_photo\\\\n   會員中心\\\\n   訂閱管理\\\\n   常見問題\\\\n   登出\\\\n\\\\nImage 4: edn logo\\\\n\\\\n首頁經濟VIP經濟彭博即時要聞產業證券行情國際兩岸金融期貨理財房市專欄專題品味OFF學商情\\\\n\\\\nImage 5: search button\\\\n\\\\nImage 6: edn logo\\\\n\\\\n- [x] 標題\\\\n\\\\nImage 7: new-icon\\\\n\\\\n \\\\n\\\\n標題 \\\\n\\\\n全文 [...] ### 共 0 則回應\\\\n\\\\n\\\\n\\\\nUndo\\\\n\\\\n\\\\n\\\\nUndo\\\\n\\\\n\\\\n\\\\nUndo\\\\n\\\\n\\\\n\\\\nUndo\\\\n\\\\n[]( the beer?”，不是要請你喝啤酒！Tim到美國出差，同事帶他去酒吧感受一下在地文化。在酒吧點酒時，外國同事對bar tender說：“Can you hold the ice?” ＂Hold the ice？＂Tim覺得太不可思議了 經濟日報\\\\n\\\\nUndo\\\\n\\\\n[](\\\\n\\\\nUndo\", \"score\": 0.21536762, \"raw_content\": null}], \"response_time\": 2.81}', name='tavily_search', id='ec16ab6c-233c-41c7-a3ae-9a2cb2333eff', tool_call_id='tooluse_NAtRyEbGQ7CeOYF3UDftyQ')]}}\n",
      "\n",
      "\n",
      "{'chatbot': {'messages': [AIMessage(content='根据搜索结果，我可以为您提供一些关于台湾和美国之间关税的信息，但需要注意的是，这个情况可能比较复杂，而且可能存在一些变动：\\n\\n1. 最新的重大变化：根据搜索结果，前美国总统特朗普曾宣布对台湾征收20%的关税。这是一个重要的变化，但具体实施情况和细节可能需要进一步确认。\\n\\n2. 产业差异：关税影响可能因不同产业而异。例如：\\n   - 传统制造业，如扣件（紧固件）、机械、水五金（如水龙头）和工具机等行业可能受到较大影响。\\n   - 半导体等高科技产业可能因其技术优势而受到的影响相对较小。\\n\\n3. 比较优势：\\n   - 与其他国家相比，台湾在某些领域可能仍然保持竞争优势。例如，与中国和东南亚国家相比，台湾对美国的关税可能并不高。\\n   - 然而，与韩国等竞争对手相比，在某些产品上台湾可能面临不利情况。例如，有报道提到韩国的某些产品税率比台湾低5%。\\n\\n4. 谈判和政策变动：\\n   - 台美之间可能正在进行关税谈判，具体结果可能会影响未来的关税安排。\\n   - 这不仅仅是简单的税率谈判，还可能涉及更广泛的地缘战略考虑。\\n\\n5. 其他因素：\\n   - 除了关税，汇率、生产成本等因素也会影响台湾产品在美国市场的竞争力。\\n   - 一些专家建议台湾企业可以考虑开拓其他市场，如欧洲市场，以分散风险。\\n\\n总的来说，台湾和美国之间的关税情况是一个复杂且可能正在变化的问题。20%的关税率被提及，但这可能不适用于所有产品或行业。建议关注最新的官方公告和贸易协定，以获取最准确和最新的信息。如果您需要特定产品或行业的具体关税信息，可能需要查询最新的官方贸易数据或咨询相关的贸易专家。', additional_kwargs={}, response_metadata={'ResponseMetadata': {'RequestId': '0cd30507-166c-4505-b802-dbbd1aee2530', 'HTTPStatusCode': 200, 'HTTPHeaders': {'date': 'Fri, 01 Aug 2025 17:26:57 GMT', 'content-type': 'application/json', 'content-length': '2106', 'connection': 'keep-alive', 'x-amzn-requestid': '0cd30507-166c-4505-b802-dbbd1aee2530'}, 'RetryAttempts': 0}, 'stopReason': 'end_turn', 'metrics': {'latencyMs': [15536]}, 'model_name': 'anthropic.claude-3-5-sonnet-20240620-v1:0'}, id='run--2cf4ebb1-9f97-4657-9ecb-67830dd2d152-0', usage_metadata={'input_tokens': 4985, 'output_tokens': 712, 'total_tokens': 5697, 'input_token_details': {'cache_creation': 0, 'cache_read': 0}})]}}\n",
      "\n",
      "\n"
     ]
    }
   ],
   "source": [
    "user_input = \"台灣現在跟美國的關稅是多少\"\n",
    "config = {\"configurable\": {\"thread_id\": \"1\"}}\n",
    "\n",
    "\n",
    "for chunk in graph.stream(State(messages=[user_input]), stream_mode=\"updates\", config=config):\n",
    "    print(chunk)\n",
    "    print(\"\\n\")"
   ]
  },
  {
   "cell_type": "code",
   "execution_count": null,
   "id": "f46e8099",
   "metadata": {},
   "outputs": [
    {
     "ename": "KeyError",
     "evalue": "'messages'",
     "output_type": "error",
     "traceback": [
      "\u001b[31m---------------------------------------------------------------------------\u001b[39m",
      "\u001b[31mKeyError\u001b[39m                                  Traceback (most recent call last)",
      "\u001b[36mCell\u001b[39m\u001b[36m \u001b[39m\u001b[32mIn[31]\u001b[39m\u001b[32m, line 5\u001b[39m\n\u001b[32m      1\u001b[39m user_input = \u001b[33m\"\u001b[39m\u001b[33m簡短說明你對現況的看法\u001b[39m\u001b[33m\"\u001b[39m\n\u001b[32m      4\u001b[39m \u001b[38;5;28;01mfor\u001b[39;00m chunk \u001b[38;5;129;01min\u001b[39;00m graph.stream(State(messages=[user_input]), stream_mode=\u001b[33m\"\u001b[39m\u001b[33mupdates\u001b[39m\u001b[33m\"\u001b[39m, config=config):\n\u001b[32m----> \u001b[39m\u001b[32m5\u001b[39m     \u001b[38;5;28mprint\u001b[39m(\u001b[43mchunk\u001b[49m\u001b[43m[\u001b[49m\u001b[33;43m'\u001b[39;49m\u001b[33;43mmessages\u001b[39;49m\u001b[33;43m'\u001b[39;49m\u001b[43m]\u001b[49m[-\u001b[32m1\u001b[39m].pretty_print())\n\u001b[32m      6\u001b[39m     \u001b[38;5;28mprint\u001b[39m(\u001b[33m\"\u001b[39m\u001b[38;5;130;01m\\n\u001b[39;00m\u001b[33m\"\u001b[39m)\n",
      "\u001b[31mKeyError\u001b[39m: 'messages'"
     ]
    }
   ],
   "source": [
    "user_input = \"簡短說明你對現況的看法\"\n",
    "\n",
    "\n",
    "for chunk in graph.stream(State(messages=[user_input]), stream_mode=\"updates\", config=config):\n",
    "    print(chunk)\n",
    "    print(\"\\n\")"
   ]
  },
  {
   "cell_type": "code",
   "execution_count": null,
   "id": "147779bf",
   "metadata": {},
   "outputs": [],
   "source": []
  }
 ],
 "metadata": {
  "kernelspec": {
   "display_name": ".venv",
   "language": "python",
   "name": "python3"
  },
  "language_info": {
   "codemirror_mode": {
    "name": "ipython",
    "version": 3
   },
   "file_extension": ".py",
   "mimetype": "text/x-python",
   "name": "python",
   "nbconvert_exporter": "python",
   "pygments_lexer": "ipython3",
   "version": "3.12.7"
  }
 },
 "nbformat": 4,
 "nbformat_minor": 5
}
