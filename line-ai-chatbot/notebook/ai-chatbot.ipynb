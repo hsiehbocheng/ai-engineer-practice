{
 "cells": [
  {
   "cell_type": "code",
   "execution_count": 17,
   "id": "43b47e4f",
   "metadata": {},
   "outputs": [],
   "source": [
    "from typing import Annotated\n",
    "import os\n",
    "from IPython.display import Image, display\n",
    "from typing_extensions import TypedDict\n",
    "\n",
    "from langchain_tavily import TavilySearch\n",
    "from langchain.chat_models import init_chat_model\n",
    "from langchain_core.tools import tool\n",
    "from langgraph.graph import StateGraph, START, END\n",
    "from langgraph.graph.message import add_messages\n",
    "from langgraph.prebuilt import ToolNode, tools_condition\n",
    "from langgraph.checkpoint.memory import InMemorySaver\n",
    "from langgraph.types import Command, interrupt\n",
    "\n",
    "from dotenv import load_dotenv\n",
    "load_dotenv()\n",
    "\n",
    "os.environ[\"LANGSMITH_TRACING\"] = \"true\"\n",
    "os.environ[\"LANGSMITH_PROJECT\"] = \"cathay-agent-club\"\n",
    "model_name = 'bedrock_converse:anthropic.claude-3-5-sonnet-20240620-v1:0'"
   ]
  },
  {
   "cell_type": "code",
   "execution_count": 18,
   "id": "957bcbcc",
   "metadata": {},
   "outputs": [],
   "source": [
    "\n",
    "\n",
    "@tool\n",
    "def human_assistance(query: str) -> str:\n",
    "    \"\"\"Request assistance from a human.\"\"\"\n",
    "    human_response = interrupt({\"query\": query})\n",
    "    return human_response[\"data\"]"
   ]
  },
  {
   "cell_type": "code",
   "execution_count": 19,
   "id": "cbde344e",
   "metadata": {},
   "outputs": [],
   "source": [
    "llm = init_chat_model(model=model_name)\n",
    "tools = [TavilySearch(max_results=2),\n",
    "         human_assistance]\n",
    "llm_with_tool = llm.bind_tools(tools)"
   ]
  },
  {
   "cell_type": "code",
   "execution_count": 20,
   "id": "bf17d78c",
   "metadata": {},
   "outputs": [],
   "source": [
    "class State(TypedDict):\n",
    "    # Messages have the type \"list\". The `add_messages` function\n",
    "    # in the annotation defines how this state key should be updated\n",
    "    # (in this case, it appends messages to the list, rather than overwriting them)\n",
    "    messages: Annotated[list, add_messages]"
   ]
  },
  {
   "cell_type": "code",
   "execution_count": 21,
   "id": "70f6461b",
   "metadata": {},
   "outputs": [],
   "source": [
    "def chatbot(state: State):\n",
    "    messages = llm_with_tool.invoke(state[\"messages\"])\n",
    "    assert len(messages.tool_calls) <= 1\n",
    "    \n",
    "    return {\"messages\": [messages]}"
   ]
  },
  {
   "cell_type": "code",
   "execution_count": 22,
   "id": "80e46d90",
   "metadata": {},
   "outputs": [
    {
     "data": {
      "image/png": "[encoded data removed]",
      "text/plain": [
       "<IPython.core.display.Image object>"
      ]
     },
     "metadata": {},
     "output_type": "display_data"
    }
   ],
   "source": [
    "graph_builder = StateGraph(state_schema=State)\n",
    "tool_node = ToolNode(tools)\n",
    "memory = InMemorySaver()\n",
    "\n",
    "graph_builder.add_node(\"chatbot\", chatbot)\n",
    "graph_builder.add_node(\"tools\", tool_node)\n",
    "\n",
    "graph_builder.add_edge(START, \"chatbot\")\n",
    "graph_builder.add_conditional_edges(\"chatbot\", tools_condition)\n",
    "graph_builder.add_edge(\"tools\", \"chatbot\")\n",
    "graph = graph_builder.compile(checkpointer=memory)\n",
    "\n",
    "display(Image(graph.get_graph().draw_mermaid_png()))"
   ]
  },
  {
   "cell_type": "code",
   "execution_count": 23,
   "id": "6599028c",
   "metadata": {},
   "outputs": [
    {
     "name": "stdout",
     "output_type": "stream",
     "text": [
      "{'chatbot': {'messages': [AIMessage(content=[{'type': 'text', 'text': '當然可以幫您請求專家協助來建立 AI agent。我會使用 human_assistance 工具來提出這個請求。讓我為您發送這個請求。'}, {'type': 'tool_use', 'name': 'human_assistance', 'input': {'query': '我需要一些專家指導來建立一個 AI agent。您能提供一些建議或資源嗎？具體來說，我想了解以下幾點：\\n1. 開始建立 AI agent 的最佳實踐\\n2. 常見的陷阱和如何避免\\n3. 推薦的工具或框架\\n4. 對於初學者的學習資源\\n\\n非常感謝您的協助！'}, 'id': 'tooluse_Joy7B8U1SACWJEL73FD_8Q'}], additional_kwargs={}, response_metadata={'ResponseMetadata': {'RequestId': '136f7ff2-1fe2-4e15-bb2e-b856b87b5905', 'HTTPStatusCode': 200, 'HTTPHeaders': {'date': 'Fri, 01 Aug 2025 17:59:23 GMT', 'content-type': 'application/json', 'content-length': '750', 'connection': 'keep-alive', 'x-amzn-requestid': '136f7ff2-1fe2-4e15-bb2e-b856b87b5905'}, 'RetryAttempts': 0}, 'stopReason': 'tool_use', 'metrics': {'latencyMs': [4563]}, 'model_name': 'anthropic.claude-3-5-sonnet-20240620-v1:0'}, id='run--bafff32e-b08c-4b0d-ab4d-f35f50c3d226-0', tool_calls=[{'name': 'human_assistance', 'args': {'query': '我需要一些專家指導來建立一個 AI agent。您能提供一些建議或資源嗎？具體來說，我想了解以下幾點：\\n1. 開始建立 AI agent 的最佳實踐\\n2. 常見的陷阱和如何避免\\n3. 推薦的工具或框架\\n4. 對於初學者的學習資源\\n\\n非常感謝您的協助！'}, 'id': 'tooluse_Joy7B8U1SACWJEL73FD_8Q', 'type': 'tool_call'}], usage_metadata={'input_tokens': 2185, 'output_tokens': 226, 'total_tokens': 2411, 'input_token_details': {'cache_creation': 0, 'cache_read': 0}})]}}\n",
      "\n",
      "\n",
      "{'__interrupt__': (Interrupt(value={'query': '我需要一些專家指導來建立一個 AI agent。您能提供一些建議或資源嗎？具體來說，我想了解以下幾點：\\n1. 開始建立 AI agent 的最佳實踐\\n2. 常見的陷阱和如何避免\\n3. 推薦的工具或框架\\n4. 對於初學者的學習資源\\n\\n非常感謝您的協助！'}, id='69cee2c0704730d8574414657fc56f5f'),)}\n",
      "\n",
      "\n"
     ]
    }
   ],
   "source": [
    "user_input = \"我需要一些專家的指導來建立一個 AI agent。你可以幫我請求協助嗎？\"\n",
    "config = {\"configurable\": {\"thread_id\": \"1\"}}\n",
    "\n",
    "\n",
    "for chunk in graph.stream(State(messages=[user_input]), stream_mode=\"updates\", config=config):\n",
    "    print(chunk)\n",
    "    print(\"\\n\")"
   ]
  },
  {
   "cell_type": "code",
   "execution_count": 25,
   "id": "70a7c6fe",
   "metadata": {},
   "outputs": [],
   "source": [
    "human_command = Command(resume={\"data\": \"我們這些專家隨時準備提供協助！我們建議你試試 LangGraph 來建立你的 AI agent。它比簡單的自動化 agent 更加可靠且具擴充性。\"})"
   ]
  },
  {
   "cell_type": "code",
   "execution_count": 26,
   "id": "61c4cc2b",
   "metadata": {},
   "outputs": [
    {
     "name": "stdout",
     "output_type": "stream",
     "text": [
      "{'tools': {'messages': [ToolMessage(content='我們這些專家隨時準備提供協助！我們建議你試試 LangGraph 來建立你的 AI agent。它比簡單的自動化 agent 更加可靠且具擴充性。', name='human_assistance', id='70c4ff87-5ed0-46f3-85b5-829263f60d2a', tool_call_id='tooluse_Joy7B8U1SACWJEL73FD_8Q')]}}\n",
      "\n",
      "\n",
      "{'chatbot': {'messages': [AIMessage(content='非常感謝您的耐心等待。我已經收到了專家的回覆，他們提供了一些有價值的建議。以下是專家的回應：\\n\\n專家建議您嘗試使用 LangGraph 來建立您的 AI agent。他們指出，LangGraph 比簡單的自動化 agent 更加可靠且具有擴展性。\\n\\n基於這個建議，我可以為您提供一些額外的信息和建議：\\n\\n1. 開始建立 AI agent 的最佳實踐：\\n   - 從了解 LangGraph 開始，這是一個專為建立複雜 AI agent 設計的框架。\\n   - 在開始編碼之前，先仔細規劃您的 agent 的功能和結構。\\n   - 從小規模開始，然後逐步擴展功能。\\n\\n2. 常見的陷阱和如何避免：\\n   - 不要過度複雜化您的初始設計。從基本功能開始，然後逐步增加複雜性。\\n   - 確保充分測試您的 agent，特別是在處理異常情況時。\\n   - 注意 AI 倫理和隱私問題，確保您的 agent 符合相關法規和最佳實踐。\\n\\n3. 推薦的工具或框架：\\n   - LangGraph：專家特別推薦的框架。\\n   - 可能還需要考慮其他輔助工具，如用於自然語言處理的庫（例如 NLTK 或 spaCy）。\\n\\n4. 對於初學者的學習資源：\\n   - 查找 LangGraph 的官方文檔和教程。\\n   - 尋找有關 AI agent 開發的在線課程或工作坊。\\n   - 參與相關的開發者社區，如 GitHub 或 Stack Overflow 上的 LangGraph 社區。\\n\\n如果您需要更多具體的指導或有任何特定問題，請隨時告訴我。我可以幫您進一步詢問專家或搜索更多相關信息。', additional_kwargs={}, response_metadata={'ResponseMetadata': {'RequestId': '08380fe9-a299-4ebb-86d3-bd056a0eefd4', 'HTTPStatusCode': 200, 'HTTPHeaders': {'date': 'Fri, 01 Aug 2025 18:01:57 GMT', 'content-type': 'application/json', 'content-length': '1752', 'connection': 'keep-alive', 'x-amzn-requestid': '08380fe9-a299-4ebb-86d3-bd056a0eefd4'}, 'RetryAttempts': 0}, 'stopReason': 'end_turn', 'metrics': {'latencyMs': [11453]}, 'model_name': 'anthropic.claude-3-5-sonnet-20240620-v1:0'}, id='run--216c7992-385b-48f2-a19f-7e3a2862e536-0', usage_metadata={'input_tokens': 2483, 'output_tokens': 603, 'total_tokens': 3086, 'input_token_details': {'cache_creation': 0, 'cache_read': 0}})]}}\n",
      "\n",
      "\n"
     ]
    }
   ],
   "source": [
    "for chunk in graph.stream(human_command, stream_mode=\"updates\", config=config):\n",
    "    print(chunk)\n",
    "    print(\"\\n\")"
   ]
  },
  {
   "cell_type": "code",
   "execution_count": 28,
   "id": "684a07da",
   "metadata": {},
   "outputs": [
    {
     "name": "stdout",
     "output_type": "stream",
     "text": [
      "Num Messages:  4 Next:  ()\n",
      "--------------------------------------------------------------------------------\n",
      "Num Messages:  3 Next:  ('chatbot',)\n",
      "--------------------------------------------------------------------------------\n",
      "Num Messages:  2 Next:  ('tools',)\n",
      "--------------------------------------------------------------------------------\n",
      "Num Messages:  1 Next:  ('chatbot',)\n",
      "--------------------------------------------------------------------------------\n",
      "Num Messages:  0 Next:  ('__start__',)\n",
      "--------------------------------------------------------------------------------\n"
     ]
    }
   ],
   "source": [
    "for state in graph.get_state_history(config):\n",
    "    print(\"Num Messages: \", len(state.values[\"messages\"]), \"Next: \", state.next)\n",
    "    print(\"-\" * 80)\n",
    "    if len(state.values[\"messages\"]) == 6:\n",
    "        # We are somewhat arbitrarily selecting a specific state based on the number of chat messages in the state.\n",
    "        to_replay = state"
   ]
  }
 ],
 "metadata": {
  "kernelspec": {
   "display_name": ".venv",
   "language": "python",
   "name": "python3"
  },
  "language_info": {
   "codemirror_mode": {
    "name": "ipython",
    "version": 3
   },
   "file_extension": ".py",
   "mimetype": "text/x-python",
   "name": "python",
   "nbconvert_exporter": "python",
   "pygments_lexer": "ipython3",
   "version": "3.12.7"
  }
 },
 "nbformat": 4,
 "nbformat_minor": 5
}
