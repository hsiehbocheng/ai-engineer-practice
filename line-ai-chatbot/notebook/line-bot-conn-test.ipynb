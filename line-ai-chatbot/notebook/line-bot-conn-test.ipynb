{
 "cells": [
  {
   "cell_type": "code",
   "execution_count": null,
   "id": "6527d96b",
   "metadata": {},
   "outputs": [],
   "source": [
    "import os, dotenv\n",
    "from fastapi import FastAPI, Request, HTTPException, BackgroundTasks\n",
    "from linebot.v3 import WebhookHandler  \n",
    "from linebot.v3.messaging import ( \n",
    "    Configuration, ApiClient, MessagingApi,\n",
    "    ReplyMessageRequest, TextMessage\n",
    ")\n",
    "from linebot.v3.webhooks import MessageEvent, TextMessageContent\n",
    "from linebot.v3.exceptions import InvalidSignatureError"
   ]
  }
 ],
 "metadata": {
  "kernelspec": {
   "display_name": ".venv",
   "language": "python",
   "name": "python3"
  },
  "language_info": {
   "codemirror_mode": {
    "name": "ipython",
    "version": 3
   },
   "file_extension": ".py",
   "mimetype": "text/x-python",
   "name": "python",
   "nbconvert_exporter": "python",
   "pygments_lexer": "ipython3",
   "version": "3.12.7"
  }
 },
 "nbformat": 4,
 "nbformat_minor": 5
}
