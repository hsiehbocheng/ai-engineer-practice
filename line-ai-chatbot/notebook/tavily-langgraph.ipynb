{
 "cells": [
  {
   "cell_type": "markdown",
   "id": "df1bd8eb",
   "metadata": {},
   "source": [
    "1. pip install -e .\n",
    "2. 輸入需要的 api key\n",
    "   - openai_api_key\n",
    "   - tavily_api_key"
   ]
  },
  {
   "cell_type": "code",
   "execution_count": 7,
   "id": "4800c66e",
   "metadata": {},
   "outputs": [],
   "source": [
    "from typing import Annotated\n",
    "import os\n",
    "from IPython.display import Image, display\n",
    "from typing_extensions import TypedDict\n",
    "\n",
    "from langchain_tavily import TavilySearch\n",
    "from langchain.chat_models import init_chat_model\n",
    "from langchain.embeddings import init_embeddings\n",
    "from langchain_core.tools import tool\n",
    "from langgraph.graph import StateGraph, START, END\n",
    "from langgraph.graph.message import add_messages\n",
    "from langgraph.prebuilt import ToolNode, tools_condition\n",
    "from langgraph.checkpoint.memory import InMemorySaver\n",
    "from langgraph.checkpoint.postgres import PostgresSaver\n",
    "from langgraph.checkpoint.memory import InMemorySaver\n",
    "\n",
    "from langgraph.types import Command, interrupt\n",
    "from langchain_core.messages import HumanMessage, AIMessage, SystemMessage\n",
    "from langgraph.graph import MessagesState\n",
    "from langchain_core.runnables.config import RunnableConfig\n",
    "\n",
    "from dotenv import load_dotenv\n",
    "load_dotenv()\n",
    "\n",
    "os.environ[\"OPENAI_API_KEY\"] = \"your_key\"\n",
    "os.environ[\"TAVILY_API_KEY\"] = \"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\"\n",
    "chat_model_name = 'bedrock_converse:anthropic.claude-3-5-sonnet-20240620-v1:0'"
   ]
  },
  {
   "cell_type": "code",
   "execution_count": 8,
   "id": "9697ea98",
   "metadata": {},
   "outputs": [],
   "source": [
    "llm = init_chat_model(model=chat_model_name)\n",
    "\n",
    "search = TavilySearch(api_key=os.getenv(\"TAVILY_API_KEY\"))\n",
    "\n",
    "# llm 需要的 tools\n",
    "tools = [\n",
    "    TavilySearch(max_results=10),\n",
    "    # human_assistance\n",
    "    ]\n",
    "llm_with_tool = llm.bind_tools(tools)"
   ]
  },
  {
   "cell_type": "code",
   "execution_count": 9,
   "id": "1eadbb3f",
   "metadata": {},
   "outputs": [
    {
     "data": {
      "text/plain": [
       "AIMessage(content='您好！很高兴为您服务。我是一位AI助手,可以回答您的问题或提供帮助。您有什么我可以为您做的吗?也许您想了解某个话题,或者需要某方面的建议?请随时告诉我,我会尽力协助您。', additional_kwargs={}, response_metadata={'ResponseMetadata': {'RequestId': 'dbe04f76-2780-440b-8fa0-d158eebed604', 'HTTPStatusCode': 200, 'HTTPHeaders': {'date': 'Tue, 26 Aug 2025 01:53:00 GMT', 'content-type': 'application/json', 'content-length': '424', 'connection': 'keep-alive', 'x-amzn-requestid': 'dbe04f76-2780-440b-8fa0-d158eebed604'}, 'RetryAttempts': 0}, 'stopReason': 'end_turn', 'metrics': {'latencyMs': [3959]}, 'model_name': 'anthropic.claude-3-5-sonnet-20240620-v1:0'}, id='run--720d97a5-c407-4137-aadd-a5a5f65d0e74-0', usage_metadata={'input_tokens': 2101, 'output_tokens': 92, 'total_tokens': 2193, 'input_token_details': {'cache_creation': 0, 'cache_read': 0}})"
      ]
     },
     "execution_count": 9,
     "metadata": {},
     "output_type": "execute_result"
    }
   ],
   "source": [
    "llm_with_tool.invoke(\"你好\")"
   ]
  },
  {
   "cell_type": "code",
   "execution_count": 10,
   "id": "f9c07a1b",
   "metadata": {},
   "outputs": [
    {
     "data": {
      "text/plain": [
       "{'query': '川普',\n",
       " 'follow_up_questions': None,\n",
       " 'answer': None,\n",
       " 'images': [],\n",
       " 'results': [{'url': 'https://en.wikipedia.org/wiki/Donald_Trump',\n",
       "   'title': 'Donald Trump',\n",
       "   'content': 'Donald John Trump (born June 14, 1946) is an American politician, media personality, and businessman who is the 47th president of the United States.',\n",
       "   'score': 0.60358196,\n",
       "   'raw_content': None},\n",
       "  {'url': 'https://www.backchina.com/infolist/news-800/',\n",
       "   'title': '专题：川普总统最新动态！ - 美加',\n",
       "   'content': '“川普好像在照着习近平的剧本做事” 美财长：美中关税谈判略停滞 需川普习近平参与 特朗普对中国留学生不留余地 中美再也回不到从前 德国主流媒体集体聚焦：特朗普令东南亚倒向中国 卡塔尔坚持：要写清楚飞机是特朗普政府主动要的 ## 川普-相关专题 ## “川普好像在照着习近平的剧本做事” 美国国务卿鲁比欧28日宣布，国务院将与国土安全部合作，大力撤销部分中国留美学生的签证，包含与中共有关联的陆生。 NBC新闻30日报道，这些陆生表示，他们正在质疑自己当初选择留学美国的决定。根据报道，受访的陆生表示，他们来到美国，是为了追求在中国大陆觉... ## 特朗普正在推动美中第二次“脱钩” 通过贸易战、出口管制和签证限制，特朗普政府正在发起一场更激进的脱钩运动，试图打破世界两大经济体之间的密切商业联系，并抛弃几十年来两国关系的支柱。 纽约时报中文网 (@nytchinese) May 30, 2025特朗普政府威胁要撤销在美约27.7... ## 美国上诉法院裁定特朗普关税措施目前可继续实施 美国一家上诉法院作出裁定，特朗普目前可以继续征收进口关税。此前一天，一项法院裁决认定他的大部分全球关税措施违法。  BBC News 中文 (@bbcchinese) May 30, 2025美国一家上诉法院作出裁定，特朗普目前可以继续征收进口关税。此前... 美加-专题榜 >> 更多热点专题 关于本站 Copyright © 2001-2013 海外华人中文门户：倍可亲 ( All Rights Reserved. 程序系统基于 Discuz! X3.1 商业版 优化 Discuz! © 2001-2013 Comsenz Inc. 更新：GMT+8, 2025-5-30 23:15 倍可亲服务器位于美国圣何塞、西雅图和达拉斯顶级数据中心，为更好服务全球网友特统一使用京港台时间',\n",
       "   'score': 0.3908251,\n",
       "   'raw_content': None},\n",
       "  {'url': 'https://twitter.com/potus?',\n",
       "   'title': 'President Trump (@POTUS) | Twitter',\n",
       "   'content': \"Published Time: Fri, 22 Aug 2025 15:03:52 GMT President Donald J. Trump (@POTUS) / X President Donald J. President Donald J. 45th & 47th President of the United States. President Donald J. President Donald J. President Donald J. Image 10: Square profile picture The White House @WhiteHouse President Trump Joins Law Enforcement and Military Personnel in Washington, D.C. President Donald J. Promises Made, Promises KEPT Image 12: 🇺🇸 President Trump is delivering HUGE for America - haters can't keep up. President Donald J. President Trump is right: The Smithsonian Institution's embrace of WOKE ideology distorts history. President Donald J. Aug 21 President Donald J. Aug 19 By signing up, you agree to the Terms of Service and Privacy Policy, including Cookie Use.\",\n",
       "   'score': 0.2458994,\n",
       "   'raw_content': None},\n",
       "  {'url': 'https://zh.wikipedia.org/zh-tw/%E5%94%90%E7%B4%8D%C2%B7%E5%B7%9D%E6%99%AE',\n",
       "   'title': '唐納·川普',\n",
       "   'content': 'Trump tweets image depicting Clinton, cash and the Star of David. Donald Trump tweet with Star of David draws social media backlash. Paul Ryan and Mitch McConnell Reject Donald Trump’s Words, Over and Over, but Not His Candidacy. John McCain Withdraws Support for Donald Trump After Disclosure of Recording. Paul Ryan said he won\\'t defend Donald Trump. The growing list of Republicans who have abandoned Donald Trump. Trump [@realDonaldTrump]]( \"Donald Trump\"). ^Donald Trump [@realDonaldTrump]. Twitter permanently suspends President Donald Trump. Church says Donald Trump is not an \\'active member\\'. Trump in 2004. Donald Trump: Master Apprentice. Donald Trump: The Candidate. Donald Trump: Profile of a Real Estate Tycoon. Trump, Donald J.; Schwartz, Tony&action=edit&redlink=1 \"Tony Schwartz (author)（頁面不存在）\"). Donald Trump: From Real Estate to Reality TV.',\n",
       "   'score': 0.2349069,\n",
       "   'raw_content': None},\n",
       "  {'url': 'https://www.facebook.com/POTUS/',\n",
       "   'title': 'President Donald J. Trump',\n",
       "   'content': 'Facebook _Facebook_ Email or phone Password Forgot account? Create new account You’re Temporarily Blocked You’re Temporarily Blocked It looks like you were misusing this feature by going too fast. You’ve been temporarily blocked from using it. *   English (US) *   Español *   Français (France)\") *   中文(简体)\") *   العربية *   Português (Brasil)\") *   Italiano *   한국어 *   Deutsch *   हिन्दी *   日本語 *   Sign Up *   Log In *   Messenger *   Facebook Lite *   Meta Pay *   Meta Store *   Meta Quest *   Ray-Ban Meta *   Meta AI *   Meta AI more content *   Voting Information Center *   Privacy Policy *   Consumer Health Privacy *   Privacy Center *   Create ad *   Create Page *   Ad choices *   Activity log Meta © 2025',\n",
       "   'score': 0.13544947,\n",
       "   'raw_content': None}],\n",
       " 'response_time': 1.27,\n",
       " 'request_id': '9f4818dc-d243-44c4-8e36-716b949bc753'}"
      ]
     },
     "execution_count": 10,
     "metadata": {},
     "output_type": "execute_result"
    }
   ],
   "source": [
    "search.invoke(\"川普\")"
   ]
  },
  {
   "cell_type": "code",
   "execution_count": null,
   "id": "79294a51",
   "metadata": {},
   "outputs": [],
   "source": []
  },
  {
   "cell_type": "code",
   "execution_count": 11,
   "id": "7ee099a0",
   "metadata": {},
   "outputs": [],
   "source": [
    "# 定義 chatbot 如何回覆\n",
    "# 包含 1. tools 設定\n",
    "# 2. system prompt\n",
    "def chatbot(state: MessagesState):\n",
    "    # 加入 system prompt\n",
    "    if not any(isinstance(msg, SystemMessage) for msg in state[\"messages\"]):\n",
    "        system_message = SystemMessage(content=\"\"\"你是一個有幫助的AI助理。你可以使用搜尋工具來回答問題。\n",
    "        當你需要最新資訊或事實查證時，請善用搜尋工具。請用繁體中文回答。\"\"\")\n",
    "        state[\"messages\"].insert(0, system_message)\n",
    "    \n",
    "    messages = llm_with_tool.invoke(state[\"messages\"])\n",
    "    return {\"messages\": messages}"
   ]
  },
  {
   "cell_type": "code",
   "execution_count": 12,
   "id": "82a26eb5",
   "metadata": {},
   "outputs": [],
   "source": [
    "# langgraph builder\n",
    "\n",
    "graph_builder = StateGraph(state_schema=MessagesState)\n",
    "tool_node = ToolNode(tools)\n",
    "\n",
    "graph_builder.add_node(\"chatbot\", chatbot)\n",
    "graph_builder.add_node('tools', tool_node)\n",
    "\n",
    "graph_builder.add_edge(START, \"chatbot\")\n",
    "graph_builder.add_conditional_edges(\"chatbot\", tools_condition)\n",
    "graph_builder.add_edge(\"tools\", \"chatbot\")\n",
    "\n",
    "graph = graph_builder.compile()"
   ]
  },
  {
   "cell_type": "code",
   "execution_count": 13,
   "id": "2a042111",
   "metadata": {},
   "outputs": [
    {
     "data": {
      "image/png": "[encoded data removed]",
      "text/plain": [
       "<IPython.core.display.Image object>"
      ]
     },
     "metadata": {},
     "output_type": "display_data"
    }
   ],
   "source": [
    "display(Image(graph.get_graph().draw_mermaid_png()))"
   ]
  },
  {
   "cell_type": "code",
   "execution_count": 14,
   "id": "8447c8a1",
   "metadata": {},
   "outputs": [
    {
     "name": "stdout",
     "output_type": "stream",
     "text": [
      "根據搜尋結果，我可以為您提供關於 GQR125CD 車型的以下資訊：\n",
      "\n",
      "GQR125CD 是 Yamaha（台灣山葉機車）生產的一款車型，具體來說是 Cygnus Gryphus 系列的一部分。以下是關於這個車型的一些重要資訊：\n",
      "\n",
      "1. 車型名稱：Yamaha Cygnus Gryphus（新勁戰）\n",
      "\n",
      "2. 排氣量：125cc\n",
      "\n",
      "3. 類型：速克達（Scooter）\n",
      "\n",
      "4. 生產時間：根據召回資訊，這個車型是在 2021 年 10 月至 2024 年 10 月間生產的。\n",
      "\n",
      "5. 特點：\n",
      "   - 配備 LED 頭燈\n",
      "   - 使用 CVT 變速系統（無段變速系統）\n",
      "   - 有 ABS（防鎖死煞車系統）版本\n",
      "\n",
      "6. 召回資訊：台灣山葉機車工業股份有限公司在 2024 年 2 月 20 日公告了一項召回，涉及 2021 年 10 月至 2022 年 10 月間生產的 GQR125CD 型號。召回原因是前煞車卡鉗製造過程中的部品管理問題，可能影響前煞車制動力。\n",
      "\n",
      "7. 能源效率：這款車型曾獲得節能標章，但目前該證書已失效。當時的能源效率標準要求平均油耗需大於或等於 47.2 km/L。\n",
      "\n",
      "8. 車架號碼範圍：根據召回資訊，受影響的 GQR125CD 車型的車架號碼範圍是 E32YE-078932 至 E32YE-117453。\n",
      "\n",
      "GQR125CD 是 Yamaha 新勁戰系列中的一個具體型號，屬於在台灣市場銷售的 125cc 級別速克達。這款車型結合了現代設計、節能技術和安全特性，適合日常通勤和城市騎乘使用。\n"
     ]
    }
   ],
   "source": [
    "user_input = \"GQR125CD 的車型是什麼，上網幫我搜尋一下\"\n",
    "config = {\"configurable\": {\"thread_id\": \"1\", \"user_id\": \"1\"}}\n",
    "\n",
    "response = graph.invoke(MessagesState(messages=[user_input]), config=config)\n",
    "\n",
    "# llm 的回覆（response 會是歷史所有資料，最後一個是 llm 的回覆）\n",
    "print(response['messages'][-1].content)"
   ]
  },
  {
   "cell_type": "code",
   "execution_count": null,
   "id": "9b485710",
   "metadata": {},
   "outputs": [],
   "source": [
    "# 結構化輸出 Structured Output\n",
    "llmoutput -> sturctur output tools -> strured output"
   ]
  }
 ],
 "metadata": {
  "kernelspec": {
   "display_name": ".venv",
   "language": "python",
   "name": "python3"
  },
  "language_info": {
   "codemirror_mode": {
    "name": "ipython",
    "version": 3
   },
   "file_extension": ".py",
   "mimetype": "text/x-python",
   "name": "python",
   "nbconvert_exporter": "python",
   "pygments_lexer": "ipython3",
   "version": "3.12.7"
  }
 },
 "nbformat": 4,
 "nbformat_minor": 5
}
